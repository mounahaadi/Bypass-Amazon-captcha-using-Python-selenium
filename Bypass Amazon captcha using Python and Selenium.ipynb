{
 "cells": [
  {
   "cell_type": "markdown",
   "id": "5f7605f7-dc6f-4e0c-9796-be0311e2e8dd",
   "metadata": {},
   "source": [
    "* Link to Amazon Captcha - https://www.amazon.com/errors/validateCaptcha"
   ]
  },
  {
   "cell_type": "code",
   "execution_count": 1,
   "id": "a1029166-f59c-4d07-b730-7caa5a90fb40",
   "metadata": {},
   "outputs": [],
   "source": [
    "# IMPORTING THE NECESSARY PACKAGES\n",
    "\n",
    "from selenium import webdriver\n",
    "from selenium.webdriver.common.by import By\n",
    "from amazoncaptcha import AmazonCaptcha"
   ]
  },
  {
   "cell_type": "code",
   "execution_count": 2,
   "id": "af47bb59-eef9-42eb-a844-71fdec8e42a4",
   "metadata": {},
   "outputs": [],
   "source": [
    "# DOING THE INITIAL SET UP\n",
    "\n",
    "url = 'https://www.amazon.com/errors/validateCaptcha'\n",
    "\n",
    "driver = webdriver.Chrome()\n",
    "driver.get(url)"
   ]
  },
  {
   "cell_type": "code",
   "execution_count": 3,
   "id": "605e6fbc-3019-4beb-aace-2eff938d6e6f",
   "metadata": {},
   "outputs": [
    {
     "data": {
      "text/plain": [
       "'https://images-na.ssl-images-amazon.com/captcha/yniigayf/Captcha_kvqjmsgoyw.jpg'"
      ]
     },
     "execution_count": 3,
     "metadata": {},
     "output_type": "execute_result"
    }
   ],
   "source": [
    "# GRABING THE LINK OF THE CAPTCH IMAGE\n",
    "\n",
    "img_link = driver.find_element(By.XPATH, \"/html/body/div/div[1]/div[3]/div/div/form/div[1]/div/div/div[1]/img\").get_attribute('src')\n",
    "img_link"
   ]
  },
  {
   "cell_type": "code",
   "execution_count": 4,
   "id": "b7900617-828f-4300-9bee-0866a0cdee04",
   "metadata": {},
   "outputs": [
    {
     "data": {
      "text/plain": [
       "'HCFFXG'"
      ]
     },
     "execution_count": 4,
     "metadata": {},
     "output_type": "execute_result"
    }
   ],
   "source": [
    "# SENDING THE CAPTCHA IMAGE LINK TO EXTRACT THE TEXT\n",
    "\n",
    "captcha = AmazonCaptcha.fromlink(img_link)\n",
    "captcha_value = AmazonCaptcha.solve(captcha)\n",
    "captcha_value"
   ]
  },
  {
   "cell_type": "code",
   "execution_count": 5,
   "id": "1ee1ae1a-597b-4a14-aaaa-ac3b75e7c746",
   "metadata": {},
   "outputs": [],
   "source": [
    "# INPUTING THE EXTRACTED TEXT\n",
    "\n",
    "input_captcha_text = driver.find_element(By.XPATH, \"//*[@id='captchacharacters']\").send_keys(captcha_value)"
   ]
  },
  {
   "cell_type": "code",
   "execution_count": 6,
   "id": "8248abad-4e4d-48d6-be6b-05a498d0a750",
   "metadata": {},
   "outputs": [],
   "source": [
    "# CLICKING THE BUTTON TO AFTER ENTERING THE CAPTCHA TEXT\n",
    "\n",
    "click_btn = driver.find_element(By.XPATH, \"/html/body/div/div[1]/div[3]/div/div/form/div[2]/div/span/span/button\")\n",
    "click_btn.click()"
   ]
  },
  {
   "cell_type": "code",
   "execution_count": null,
   "id": "1f78518d-b654-43eb-9e6a-30cb8667d97d",
   "metadata": {},
   "outputs": [],
   "source": []
  },
  {
   "cell_type": "code",
   "execution_count": null,
   "id": "caebd99a-d216-4910-8c37-ec69f6347b51",
   "metadata": {},
   "outputs": [],
   "source": []
  }
 ],
 "metadata": {
  "kernelspec": {
   "display_name": "Python 3 (ipykernel)",
   "language": "python",
   "name": "python3"
  },
  "language_info": {
   "codemirror_mode": {
    "name": "ipython",
    "version": 3
   },
   "file_extension": ".py",
   "mimetype": "text/x-python",
   "name": "python",
   "nbconvert_exporter": "python",
   "pygments_lexer": "ipython3",
   "version": "3.12.0"
  }
 },
 "nbformat": 4,
 "nbformat_minor": 5
}
